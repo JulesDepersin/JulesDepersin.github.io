{
 "cells": [
  {
   "cell_type": "markdown",
   "metadata": {},
   "source": [
    "# Résolution polaire d'un système"
   ]
  },
  {
   "cell_type": "code",
   "execution_count": 52,
   "metadata": {},
   "outputs": [],
   "source": [
    "import numpy as np\n",
    "from math import sqrt, exp"
   ]
  },
  {
   "cell_type": "code",
   "execution_count": 144,
   "metadata": {},
   "outputs": [],
   "source": [
    "def Gram_Schmidt(U, ps) :\n",
    "    A=U.copy()\n",
    "    d = len(A)\n",
    "    B = np.zeros((d,d))\n",
    "    for i in range(d):\n",
    "        for j in range(i):\n",
    "            B[i][j] = ps(A[i],A[j])\n",
    "            A[i] = A[i]-ps(A[i],A[j])*A[j]\n",
    "        if ps(A[i],A[i]) == 0 :\n",
    "            print(\"La famille est liée\")\n",
    "            return None\n",
    "        else :\n",
    "            B[i][i] = sqrt(ps(A[i],A[i]))\n",
    "            A[i]=1/sqrt(ps(A[i],A[i]))*A[i]\n",
    "    return A, B\n",
    "   "
   ]
  },
  {
   "cell_type": "code",
   "execution_count": 145,
   "metadata": {},
   "outputs": [],
   "source": [
    "U = np.array([[2,0,1],[0,0,2],[1,2,1]], dtype=float)"
   ]
  },
  {
   "cell_type": "code",
   "execution_count": 146,
   "metadata": {},
   "outputs": [],
   "source": [
    "def produit_scalaire(x,y):\n",
    "    n = len(x)\n",
    "    p = 0\n",
    "    for i in range(n) :\n",
    "        p = p + x[i]*y[i]\n",
    "    return p\n",
    "        "
   ]
  },
  {
   "cell_type": "code",
   "execution_count": 147,
   "metadata": {},
   "outputs": [
    {
     "data": {
      "text/plain": [
       "(array([[ 8.94427191e-01,  0.00000000e+00,  4.47213595e-01],\n",
       "        [-4.47213595e-01,  0.00000000e+00,  8.94427191e-01],\n",
       "        [ 2.77555756e-17,  1.00000000e+00, -2.77555756e-17]]),\n",
       " array([[2.23606798, 0.        , 0.        ],\n",
       "        [0.89442719, 1.78885438, 0.        ],\n",
       "        [1.34164079, 0.4472136 , 2.        ]]))"
      ]
     },
     "execution_count": 147,
     "metadata": {},
     "output_type": "execute_result"
    }
   ],
   "source": [
    "A,B=Gram_Schmidt(U, produit_scalaire)\n",
    "A,B"
   ]
  },
  {
   "cell_type": "code",
   "execution_count": 148,
   "metadata": {},
   "outputs": [
    {
     "data": {
      "text/plain": [
       "array([[2., 0., 1.],\n",
       "       [0., 0., 2.],\n",
       "       [1., 2., 1.]])"
      ]
     },
     "execution_count": 148,
     "metadata": {},
     "output_type": "execute_result"
    }
   ],
   "source": [
    "np.dot(B,A)"
   ]
  },
  {
   "cell_type": "code",
   "execution_count": 149,
   "metadata": {},
   "outputs": [
    {
     "data": {
      "text/plain": [
       "array([[ 1.00000000e+00,  6.22456065e-17,  1.24126708e-17],\n",
       "       [ 6.22456065e-17,  1.00000000e+00, -3.72380123e-17],\n",
       "       [ 1.24126708e-17, -3.72380123e-17,  1.00000000e+00]])"
      ]
     },
     "execution_count": 149,
     "metadata": {},
     "output_type": "execute_result"
    }
   ],
   "source": [
    "np.dot(A,A.T)"
   ]
  },
  {
   "cell_type": "code",
   "execution_count": 150,
   "metadata": {},
   "outputs": [],
   "source": [
    "def solve_under(A,b):\n",
    "    n = len(A)\n",
    "    x=np.zeros(n)\n",
    "    for i in range(n):\n",
    "        x[i]=b[i]\n",
    "        for j in range(i):\n",
    "            x[i]=x[i]-x[j]*A[i][j]\n",
    "        x[i]=x[i]/A[i][i]\n",
    "    return x"
   ]
  },
  {
   "cell_type": "code",
   "execution_count": 151,
   "metadata": {},
   "outputs": [
    {
     "data": {
      "text/plain": [
       "array([0.4472136 , 0.89442719, 1.        ])"
      ]
     },
     "execution_count": 151,
     "metadata": {},
     "output_type": "execute_result"
    }
   ],
   "source": [
    "solve_under(B,[1,2,3])"
   ]
  },
  {
   "cell_type": "code",
   "execution_count": 152,
   "metadata": {},
   "outputs": [
    {
     "data": {
      "text/plain": [
       "array([1.00000001, 2.        , 3.00000001])"
      ]
     },
     "execution_count": 152,
     "metadata": {},
     "output_type": "execute_result"
    }
   ],
   "source": [
    "np.dot(B,[0.4472136 , 0.89442719, 1.        ])"
   ]
  },
  {
   "cell_type": "code",
   "execution_count": 153,
   "metadata": {},
   "outputs": [],
   "source": [
    "def solve_gram_schmidt(C,b):\n",
    "    G, L = Gram_Schmidt(C,produit_scalaire)\n",
    "    y = solve_under(L,b)\n",
    "    x = np.dot(G.T,y)\n",
    "    return x\n",
    "    "
   ]
  },
  {
   "cell_type": "code",
   "execution_count": 154,
   "metadata": {},
   "outputs": [
    {
     "data": {
      "text/plain": [
       "array([-3.44900309e-17,  1.00000000e+00,  1.00000000e+00])"
      ]
     },
     "execution_count": 154,
     "metadata": {},
     "output_type": "execute_result"
    }
   ],
   "source": [
    "solve_gram_schmidt(U,[1,2,3])"
   ]
  },
  {
   "cell_type": "code",
   "execution_count": 155,
   "metadata": {},
   "outputs": [
    {
     "data": {
      "text/plain": [
       "array([1., 2., 3.])"
      ]
     },
     "execution_count": 155,
     "metadata": {},
     "output_type": "execute_result"
    }
   ],
   "source": [
    "np.dot(U,[-3.44900309e-17,  1.00000000e+00,  1.00000000e+00])"
   ]
  },
  {
   "cell_type": "markdown",
   "metadata": {},
   "source": [
    "# Interpolation de Lagrange"
   ]
  },
  {
   "cell_type": "code",
   "execution_count": 183,
   "metadata": {},
   "outputs": [
    {
     "data": {
      "text/plain": [
       "array([[1.00000000e+00, 0.00000000e+00, 0.00000000e+00, 0.00000000e+00,\n",
       "        0.00000000e+00, 0.00000000e+00, 0.00000000e+00, 0.00000000e+00,\n",
       "        0.00000000e+00, 0.00000000e+00, 0.00000000e+00],\n",
       "       [1.00000000e+00, 1.00000000e-01, 1.00000000e-02, 1.00000000e-03,\n",
       "        1.00000000e-04, 1.00000000e-05, 1.00000000e-06, 1.00000000e-07,\n",
       "        1.00000000e-08, 1.00000000e-09, 1.00000000e-10],\n",
       "       [1.00000000e+00, 2.00000000e-01, 4.00000000e-02, 8.00000000e-03,\n",
       "        1.60000000e-03, 3.20000000e-04, 6.40000000e-05, 1.28000000e-05,\n",
       "        2.56000000e-06, 5.12000000e-07, 1.02400000e-07],\n",
       "       [1.00000000e+00, 3.00000000e-01, 9.00000000e-02, 2.70000000e-02,\n",
       "        8.10000000e-03, 2.43000000e-03, 7.29000000e-04, 2.18700000e-04,\n",
       "        6.56100000e-05, 1.96830000e-05, 5.90490000e-06],\n",
       "       [1.00000000e+00, 4.00000000e-01, 1.60000000e-01, 6.40000000e-02,\n",
       "        2.56000000e-02, 1.02400000e-02, 4.09600000e-03, 1.63840000e-03,\n",
       "        6.55360000e-04, 2.62144000e-04, 1.04857600e-04],\n",
       "       [1.00000000e+00, 5.00000000e-01, 2.50000000e-01, 1.25000000e-01,\n",
       "        6.25000000e-02, 3.12500000e-02, 1.56250000e-02, 7.81250000e-03,\n",
       "        3.90625000e-03, 1.95312500e-03, 9.76562500e-04],\n",
       "       [1.00000000e+00, 6.00000000e-01, 3.60000000e-01, 2.16000000e-01,\n",
       "        1.29600000e-01, 7.77600000e-02, 4.66560000e-02, 2.79936000e-02,\n",
       "        1.67961600e-02, 1.00776960e-02, 6.04661760e-03],\n",
       "       [1.00000000e+00, 7.00000000e-01, 4.90000000e-01, 3.43000000e-01,\n",
       "        2.40100000e-01, 1.68070000e-01, 1.17649000e-01, 8.23543000e-02,\n",
       "        5.76480100e-02, 4.03536070e-02, 2.82475249e-02],\n",
       "       [1.00000000e+00, 8.00000000e-01, 6.40000000e-01, 5.12000000e-01,\n",
       "        4.09600000e-01, 3.27680000e-01, 2.62144000e-01, 2.09715200e-01,\n",
       "        1.67772160e-01, 1.34217728e-01, 1.07374182e-01],\n",
       "       [1.00000000e+00, 9.00000000e-01, 8.10000000e-01, 7.29000000e-01,\n",
       "        6.56100000e-01, 5.90490000e-01, 5.31441000e-01, 4.78296900e-01,\n",
       "        4.30467210e-01, 3.87420489e-01, 3.48678440e-01],\n",
       "       [1.00000000e+00, 1.00000000e+00, 1.00000000e+00, 1.00000000e+00,\n",
       "        1.00000000e+00, 1.00000000e+00, 1.00000000e+00, 1.00000000e+00,\n",
       "        1.00000000e+00, 1.00000000e+00, 1.00000000e+00]])"
      ]
     },
     "execution_count": 183,
     "metadata": {},
     "output_type": "execute_result"
    }
   ],
   "source": [
    "n = 10\n",
    "xis=np.array([i/n for i in range(n+1)])\n",
    "A = np.array([xis**i for i in range(n+1)]).T\n",
    "#A"
   ]
  },
  {
   "cell_type": "code",
   "execution_count": 180,
   "metadata": {},
   "outputs": [],
   "source": [
    "b=[exp(i/n) for i in range(n+1) ]"
   ]
  },
  {
   "cell_type": "code",
   "execution_count": 182,
   "metadata": {},
   "outputs": [
    {
     "data": {
      "text/plain": [
       "array([1.00000000e+00, 1.00000000e+00, 5.00000000e-01, 1.66666662e-01,\n",
       "       4.16666993e-02, 8.33320133e-03, 1.38923428e-03, 1.97816834e-04,\n",
       "       2.54721318e-05, 2.28651214e-06, 4.55935665e-07])"
      ]
     },
     "execution_count": 182,
     "metadata": {},
     "output_type": "execute_result"
    }
   ],
   "source": [
    "coeff=solve_gram_schmidt(A,b)\n",
    "coeff"
   ]
  },
  {
   "cell_type": "code",
   "execution_count": 184,
   "metadata": {},
   "outputs": [
    {
     "data": {
      "text/plain": [
       "array([1.        , 1.10517092, 1.22140276, 1.34985881, 1.4918247 ,\n",
       "       1.64872127, 1.8221188 , 2.01375271, 2.22554093, 2.45960311,\n",
       "       2.71828183])"
      ]
     },
     "execution_count": 184,
     "metadata": {},
     "output_type": "execute_result"
    }
   ],
   "source": [
    "np.dot(A,coeff)"
   ]
  },
  {
   "cell_type": "code",
   "execution_count": 186,
   "metadata": {},
   "outputs": [
    {
     "data": {
      "text/plain": [
       "1.718281828459044"
      ]
     },
     "execution_count": 186,
     "metadata": {},
     "output_type": "execute_result"
    }
   ],
   "source": [
    "integrale=0\n",
    "for i in range(n+1):\n",
    "    integrale=integrale+coeff[i]/(i+1)\n",
    "integrale"
   ]
  },
  {
   "cell_type": "markdown",
   "metadata": {},
   "source": [
    "# Méthodes d'intégration"
   ]
  },
  {
   "cell_type": "code",
   "execution_count": 188,
   "metadata": {},
   "outputs": [],
   "source": [
    "def integrale_rectangle(f,n):\n",
    "    integrale=0\n",
    "    for i in range(n):\n",
    "        integrale=integrale+1/n*f(i/n)\n",
    "    return integrale"
   ]
  },
  {
   "cell_type": "code",
   "execution_count": 196,
   "metadata": {},
   "outputs": [
    {
     "data": {
      "text/plain": [
       "1.6756827432137449"
      ]
     },
     "execution_count": 196,
     "metadata": {},
     "output_type": "execute_result"
    }
   ],
   "source": [
    "integrale_rectangle(exp,20)"
   ]
  },
  {
   "cell_type": "code",
   "execution_count": 197,
   "metadata": {},
   "outputs": [],
   "source": [
    "def integrale_trapeze(f,n):\n",
    "    integrale=0\n",
    "    for i in range(n):\n",
    "        integrale=integrale+1/(2*n)*(f(i/n)+f((i+1)/n))\n",
    "    return integrale"
   ]
  },
  {
   "cell_type": "code",
   "execution_count": 198,
   "metadata": {},
   "outputs": [
    {
     "data": {
      "text/plain": [
       "1.7186397889252212"
      ]
     },
     "execution_count": 198,
     "metadata": {},
     "output_type": "execute_result"
    }
   ],
   "source": [
    "integrale_trapeze(exp,20)"
   ]
  },
  {
   "cell_type": "code",
   "execution_count": 199,
   "metadata": {},
   "outputs": [
    {
     "data": {
      "text/plain": [
       "1.718281828459045"
      ]
     },
     "execution_count": 199,
     "metadata": {},
     "output_type": "execute_result"
    }
   ],
   "source": [
    "exp(1)-1"
   ]
  },
  {
   "cell_type": "code",
   "execution_count": 201,
   "metadata": {},
   "outputs": [],
   "source": [
    "def integrale_simpson(f,n):\n",
    "    integrale = 0\n",
    "    for i in range(n):\n",
    "        integrale=integrale+1/(n*6)*(f(i/n)+f((i+1)/n)+4*f((i+1/2)/n))\n",
    "    return integrale\n",
    "    "
   ]
  },
  {
   "cell_type": "code",
   "execution_count": 202,
   "metadata": {},
   "outputs": [
    {
     "data": {
      "text/plain": [
       "1.7182818881038568"
      ]
     },
     "execution_count": 202,
     "metadata": {},
     "output_type": "execute_result"
    }
   ],
   "source": [
    "integrale_simpson(exp, n)"
   ]
  },
  {
   "cell_type": "code",
   "execution_count": null,
   "metadata": {},
   "outputs": [],
   "source": []
  }
 ],
 "metadata": {
  "kernelspec": {
   "display_name": "Python 3",
   "language": "python",
   "name": "python3"
  },
  "language_info": {
   "codemirror_mode": {
    "name": "ipython",
    "version": 3
   },
   "file_extension": ".py",
   "mimetype": "text/x-python",
   "name": "python",
   "nbconvert_exporter": "python",
   "pygments_lexer": "ipython3",
   "version": "3.7.2"
  }
 },
 "nbformat": 4,
 "nbformat_minor": 2
}
