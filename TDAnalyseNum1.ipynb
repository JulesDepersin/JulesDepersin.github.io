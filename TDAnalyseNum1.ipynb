{
 "cells": [
  {
   "cell_type": "markdown",
   "metadata": {},
   "source": [
    "# Pivot de Gauss"
   ]
  },
  {
   "cell_type": "code",
   "execution_count": 2,
   "metadata": {},
   "outputs": [],
   "source": [
    "import numpy as np\n",
    "from math import sqrt"
   ]
  },
  {
   "cell_type": "code",
   "execution_count": 3,
   "metadata": {},
   "outputs": [],
   "source": [
    "def echangeLigne(A,i,j) :\n",
    "    if i == j:\n",
    "        return A\n",
    "    else :\n",
    "        x = A[i].copy()\n",
    "        A[i] = A[j]\n",
    "        A[j] = x\n",
    "        return A"
   ]
  },
  {
   "cell_type": "code",
   "execution_count": 4,
   "metadata": {},
   "outputs": [],
   "source": [
    "def Cherche_non_nul(A,i):\n",
    "    n = len(A[0])\n",
    "    for j in range(i,n) :\n",
    "        if A[j][i] != 0 :\n",
    "            return (True,j)\n",
    "            break\n",
    "    return (False,0)\n",
    "        "
   ]
  },
  {
   "cell_type": "code",
   "execution_count": 5,
   "metadata": {},
   "outputs": [
    {
     "name": "stdout",
     "output_type": "stream",
     "text": [
      "(True, 2)\n"
     ]
    }
   ],
   "source": [
    "b = np.array([[2,0,1],[0,0,2],[1,2,1]], dtype=float)\n",
    "print(Cherche_non_nul(b,1))"
   ]
  },
  {
   "cell_type": "code",
   "execution_count": 6,
   "metadata": {},
   "outputs": [],
   "source": [
    "def pivot_gauss(A):\n",
    "    n = len(A[0])\n",
    "    for i in range(n-1):\n",
    "        if Cherche_non_nul(A,i)[0] :\n",
    "            echangeLigne(A,i, Cherche_non_nul(A,i)[1])\n",
    "            for j in range(i+1,n):\n",
    "                A[j] = A[j] - A[j][i]/A[i][i]*A[i]\n",
    "        else:\n",
    "            return 0, A\n",
    "            break\n",
    "    det = 1\n",
    "    for i in range(n) :\n",
    "        det = det*A[i][i]\n",
    "    return det, A\n",
    "        \n",
    "            "
   ]
  },
  {
   "cell_type": "code",
   "execution_count": 7,
   "metadata": {},
   "outputs": [
    {
     "data": {
      "text/plain": [
       "(8.0, array([[2. , 0. , 1. ],\n",
       "        [0. , 2. , 0.5],\n",
       "        [0. , 0. , 2. ]]))"
      ]
     },
     "execution_count": 7,
     "metadata": {},
     "output_type": "execute_result"
    }
   ],
   "source": [
    "pivot_gauss(b)"
   ]
  },
  {
   "cell_type": "code",
   "execution_count": 8,
   "metadata": {},
   "outputs": [
    {
     "data": {
      "text/plain": [
       "(-4.25139804823397e+18,\n",
       " array([[ 1.00000000e+00,  2.00000000e+00,  3.00000000e+00, ...,\n",
       "          5.60000000e+01,  5.70000000e+01,  5.80000000e+01],\n",
       "        [ 0.00000000e+00, -3.00000000e+00, -4.00000000e+00, ...,\n",
       "         -5.70000000e+01, -5.80000000e+01, -5.90000000e+01],\n",
       "        [ 0.00000000e+00,  0.00000000e+00, -2.66666667e+00, ...,\n",
       "         -3.80000000e+01, -3.86666667e+01, -3.93333333e+01],\n",
       "        ...,\n",
       "        [ 0.00000000e+00,  0.00000000e+00, -1.54757605e-27, ...,\n",
       "         -2.03571429e+00, -2.07142857e+00, -2.10714286e+00],\n",
       "        [ 0.00000000e+00,  0.00000000e+00,  1.78780793e-28, ...,\n",
       "          0.00000000e+00, -2.03508772e+00, -2.07017544e+00],\n",
       "        [ 0.00000000e+00,  0.00000000e+00,  2.05870935e-27, ...,\n",
       "          0.00000000e+00,  0.00000000e+00, -2.03448276e+00]]))"
      ]
     },
     "execution_count": 8,
     "metadata": {},
     "output_type": "execute_result"
    }
   ],
   "source": [
    "A=np.zeros((58,58), dtype=float)\n",
    "for i in range(58) :\n",
    "    for j in range(58) :\n",
    "        A[i,j]= abs(i-j)+1\n",
    "pivot_gauss(A)"
   ]
  },
  {
   "cell_type": "markdown",
   "metadata": {},
   "source": [
    "# Orthonormalisation de Gram - Schmidt"
   ]
  },
  {
   "cell_type": "code",
   "execution_count": 9,
   "metadata": {},
   "outputs": [],
   "source": [
    "def Gram_Schmidt(A, ps) :\n",
    "    d = len(A)\n",
    "    for i in range(d):\n",
    "        for j in range(i):\n",
    "            A[i] = A[i]-ps(A[i],A[j])*A[j]\n",
    "        if ps(A[i],A[i]) == 0 :\n",
    "            print(\"La famille est liée\")\n",
    "            return None\n",
    "        else :\n",
    "            A[i]=1/sqrt(ps(A[i],A[i]))*A[i]\n",
    "    return A\n",
    "        \n",
    "        "
   ]
  },
  {
   "cell_type": "code",
   "execution_count": 10,
   "metadata": {},
   "outputs": [],
   "source": [
    "def produit_scalaire(x,y):\n",
    "    n = len(x)\n",
    "    p = 0\n",
    "    for i in range(n) :\n",
    "        p = p + x[i]*y[i]\n",
    "    return p\n",
    "        "
   ]
  },
  {
   "cell_type": "code",
   "execution_count": 11,
   "metadata": {},
   "outputs": [
    {
     "data": {
      "text/plain": [
       "array([[ 0.89442719,  0.        ,  0.4472136 ],\n",
       "       [-0.09759001,  0.97590007,  0.19518001],\n",
       "       [-0.43643578, -0.21821789,  0.87287156]])"
      ]
     },
     "execution_count": 11,
     "metadata": {},
     "output_type": "execute_result"
    }
   ],
   "source": [
    "Gram_Schmidt(b,produit_scalaire)"
   ]
  },
  {
   "cell_type": "code",
   "execution_count": 12,
   "metadata": {},
   "outputs": [
    {
     "data": {
      "text/plain": [
       "1.0000000017244008"
      ]
     },
     "execution_count": 12,
     "metadata": {},
     "output_type": "execute_result"
    }
   ],
   "source": [
    "produit_scalaire([ 0.26726124,  0.80178373, -0.53452248],[ 0.26726124,  0.80178373, -0.53452248])"
   ]
  },
  {
   "cell_type": "code",
   "execution_count": 13,
   "metadata": {},
   "outputs": [],
   "source": [
    "def produit_scalaire_polynome(x,y):\n",
    "    n = len(x)\n",
    "    p = 0\n",
    "    for i in range(2*n-1):\n",
    "        for j in range (max(0,i-n+1),min(i+1, n)):\n",
    "            p = p + x[j]*y[i-j]/(i+1)\n",
    "    return p\n",
    "        "
   ]
  },
  {
   "cell_type": "code",
   "execution_count": 14,
   "metadata": {},
   "outputs": [
    {
     "data": {
      "text/plain": [
       "<function __main__.produit_scalaire_polynome(x, y)>"
      ]
     },
     "execution_count": 14,
     "metadata": {},
     "output_type": "execute_result"
    }
   ],
   "source": [
    "produit_scalaire_polynome"
   ]
  },
  {
   "cell_type": "code",
   "execution_count": 15,
   "metadata": {},
   "outputs": [
    {
     "data": {
      "text/plain": [
       "array([[ 1.00000000e+00,  0.00000000e+00,  0.00000000e+00,\n",
       "         0.00000000e+00,  0.00000000e+00,  0.00000000e+00,\n",
       "         0.00000000e+00,  0.00000000e+00,  0.00000000e+00,\n",
       "         0.00000000e+00],\n",
       "       [-1.73205081e+00,  3.46410162e+00,  0.00000000e+00,\n",
       "         0.00000000e+00,  0.00000000e+00,  0.00000000e+00,\n",
       "         0.00000000e+00,  0.00000000e+00,  0.00000000e+00,\n",
       "         0.00000000e+00],\n",
       "       [ 2.23606798e+00, -1.34164079e+01,  1.34164079e+01,\n",
       "         0.00000000e+00,  0.00000000e+00,  0.00000000e+00,\n",
       "         0.00000000e+00,  0.00000000e+00,  0.00000000e+00,\n",
       "         0.00000000e+00],\n",
       "       [-2.64575131e+00,  3.17490157e+01, -7.93725393e+01,\n",
       "         5.29150262e+01,  0.00000000e+00,  0.00000000e+00,\n",
       "         0.00000000e+00,  0.00000000e+00,  0.00000000e+00,\n",
       "         0.00000000e+00],\n",
       "       [ 3.00000000e+00, -6.00000000e+01,  2.70000000e+02,\n",
       "        -4.20000000e+02,  2.10000000e+02,  0.00000000e+00,\n",
       "         0.00000000e+00,  0.00000000e+00,  0.00000000e+00,\n",
       "         0.00000000e+00],\n",
       "       [-3.31662479e+00,  9.94987437e+01, -6.96491206e+02,\n",
       "         1.85730988e+03, -2.08947362e+03,  8.35789447e+02,\n",
       "         0.00000000e+00,  0.00000000e+00,  0.00000000e+00,\n",
       "         0.00000000e+00],\n",
       "       [ 3.60555128e+00, -1.51433154e+02,  1.51433154e+03,\n",
       "        -6.05732615e+03,  1.13574865e+04, -9.99458814e+03,\n",
       "         3.33152938e+03,  0.00000000e+00,  0.00000000e+00,\n",
       "         0.00000000e+00],\n",
       "       [-3.87298333e+00,  2.16887065e+02, -2.92797535e+03,\n",
       "         1.62665297e+04, -4.47329564e+04,  6.44154571e+04,\n",
       "        -4.65222745e+04,  1.32920784e+04,  0.00000000e+00,\n",
       "         0.00000000e+00],\n",
       "       [ 4.12309722e+00, -2.96863037e+02,  5.19510403e+03,\n",
       "        -3.80974362e+04,  1.42865410e+05, -2.97160100e+05,\n",
       "         3.46686833e+05, -2.12257273e+05,  5.30643245e+04,\n",
       "         0.00000000e+00],\n",
       "       [-4.35867260e+00,  3.92284452e+02, -8.63033351e+03,\n",
       "         8.05503767e+04, -3.92685530e+05,  1.09952523e+06,\n",
       "        -1.83255013e+06,  1.79515788e+06, -9.53680681e+05,\n",
       "         2.11929627e+05]])"
      ]
     },
     "execution_count": 15,
     "metadata": {},
     "output_type": "execute_result"
    }
   ],
   "source": [
    "A = np.identity(10, dtype=float)\n",
    "Gram_Schmidt(A,produit_scalaire_polynome)"
   ]
  },
  {
   "cell_type": "code",
   "execution_count": 97,
   "metadata": {},
   "outputs": [
    {
     "data": {
      "text/plain": [
       "0.999964714050293"
      ]
     },
     "execution_count": 97,
     "metadata": {},
     "output_type": "execute_result"
    }
   ],
   "source": [
    "produit_scalaire_polynome([-4.35867260e+00,  3.92284452e+02, -8.63033351e+03,\n",
    "         8.05503767e+04, -3.92685530e+05,  1.09952523e+06,\n",
    "        -1.83255013e+06,  1.79515788e+06, -9.53680681e+05,\n",
    "         2.11929627e+05],[-4.35867260e+00,  3.92284452e+02, -8.63033351e+03,\n",
    "         8.05503767e+04, -3.92685530e+05,  1.09952523e+06,\n",
    "        -1.83255013e+06,  1.79515788e+06, -9.53680681e+05,\n",
    "         2.11929627e+05])"
   ]
  },
  {
   "cell_type": "code",
   "execution_count": null,
   "metadata": {},
   "outputs": [],
   "source": []
  }
 ],
 "metadata": {
  "kernelspec": {
   "display_name": "Python 3",
   "language": "python",
   "name": "python3"
  },
  "language_info": {
   "codemirror_mode": {
    "name": "ipython",
    "version": 3
   },
   "file_extension": ".py",
   "mimetype": "text/x-python",
   "name": "python",
   "nbconvert_exporter": "python",
   "pygments_lexer": "ipython3",
   "version": "3.7.2"
  }
 },
 "nbformat": 4,
 "nbformat_minor": 2
}
